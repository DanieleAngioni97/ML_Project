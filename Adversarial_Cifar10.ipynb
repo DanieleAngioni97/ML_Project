{
  "nbformat": 4,
  "nbformat_minor": 0,
  "metadata": {
    "colab": {
      "name": "Adversarial_Cifar10.ipynb",
      "provenance": [],
      "collapsed_sections": [],
      "include_colab_link": true
    },
    "kernelspec": {
      "name": "python3",
      "display_name": "Python 3"
    },
    "accelerator": "GPU"
  },
  "cells": [
    {
      "cell_type": "markdown",
      "metadata": {
        "id": "view-in-github",
        "colab_type": "text"
      },
      "source": [
        "<a href=\"https://colab.research.google.com/github/DanieleAngioni97/ML_Project/blob/master/Adversarial_Cifar10.ipynb\" target=\"_parent\"><img src=\"https://colab.research.google.com/assets/colab-badge.svg\" alt=\"Open In Colab\"/></a>"
      ]
    },
    {
      "cell_type": "code",
      "metadata": {
        "id": "WZ1JnZwgbkeV",
        "colab_type": "code",
        "colab": {}
      },
      "source": [
        "!pip3 install secml"
      ],
      "execution_count": null,
      "outputs": []
    },
    {
      "cell_type": "code",
      "metadata": {
        "id": "8Kh_f6VQVnYa",
        "colab_type": "code",
        "colab": {}
      },
      "source": [
        "import torch \n",
        "import torchvision\n",
        "import numpy as np\n",
        "import torchvision.transforms as transforms\n",
        "\n",
        "import matplotlib.pyplot as plt\n",
        "\n",
        "from secml.data.loader.c_dataloader_cifar import CDataLoaderCIFAR10\n",
        "\n",
        "loader = CDataLoaderCIFAR10()\n",
        "tr , ts = loader.load()\n",
        "\n",
        "# Normalize the data\n",
        "ts.X /= 255\n",
        "\n",
        "classes = ('plane', 'car', 'bird', 'cat',\n",
        "           'deer', 'dog', 'frog', 'horse', 'ship', 'truck')"
      ],
      "execution_count": null,
      "outputs": []
    },
    {
      "cell_type": "code",
      "metadata": {
        "id": "BZFCPio7wi1q",
        "colab_type": "code",
        "colab": {}
      },
      "source": [
        "from google.colab import drive\n",
        "drive.mount('/content/drive/')\n",
        "\n",
        "path_autoencoders = \"/content/drive/My Drive/Colab_Notebooks/ML_Project/models_saved/\""
      ],
      "execution_count": null,
      "outputs": []
    },
    {
      "cell_type": "code",
      "metadata": {
        "id": "MAgaxfJzWl9L",
        "colab_type": "code",
        "colab": {}
      },
      "source": [
        "import torch.nn as nn\n",
        "import torch.utils.model_zoo as model_zoo\n",
        "from collections import OrderedDict\n",
        "\n",
        "\n",
        "class CIFAR(nn.Module):\n",
        "    def __init__(self, features, n_channel, num_classes):\n",
        "        super(CIFAR, self).__init__()\n",
        "        assert isinstance(features, nn.Sequential), type(features)\n",
        "        self.features = features\n",
        "        self.classifier = nn.Sequential(\n",
        "            nn.Linear(n_channel, num_classes)\n",
        "        )\n",
        "        # print(self.features)\n",
        "        # print(self.classifier)\n",
        "\n",
        "    def forward(self, x):\n",
        "        x = self.features(x)\n",
        "        x = x.view(x.size(0), -1)\n",
        "        x = self.classifier(x)\n",
        "        return x\n",
        "\n",
        "def make_layers(cfg, batch_norm=False):\n",
        "    layers = []\n",
        "    in_channels = 3\n",
        "    for i, v in enumerate(cfg):\n",
        "        if v == 'M':\n",
        "            layers += [nn.MaxPool2d(kernel_size=2, stride=2)]\n",
        "        else:\n",
        "            padding = v[1] if isinstance(v, tuple) else 1\n",
        "            out_channels = v[0] if isinstance(v, tuple) else v\n",
        "            conv2d = nn.Conv2d(in_channels, out_channels, kernel_size=3, padding=padding)\n",
        "            if batch_norm:\n",
        "                layers += [conv2d, nn.BatchNorm2d(out_channels, affine=False), nn.ReLU()]\n",
        "            else:\n",
        "                layers += [conv2d, nn.ReLU()]\n",
        "            in_channels = out_channels\n",
        "    return nn.Sequential(*layers)\n",
        "\n",
        "\n",
        "def cifar10(n_channel=128, pretrained=None):\n",
        "    cfg = [n_channel, n_channel, 'M', 2*n_channel, 2*n_channel,\n",
        "           'M', 4*n_channel, 4*n_channel, 'M', (8*n_channel, 0), 'M']\n",
        "    layers = make_layers(cfg, batch_norm=True)\n",
        "    model = CIFAR(layers, n_channel=8*n_channel, num_classes=10)\n",
        "    if pretrained is not None:\n",
        "        m = model_zoo.load_url(\n",
        "            'http://ml.cs.tsinghua.edu.cn/~chenxi/pytorch-models/cifar10-d875770b.pth')\n",
        "        state_dict = m.state_dict() if isinstance(m, nn.Module) else m\n",
        "        assert isinstance(state_dict, (dict, OrderedDict)), type(state_dict)\n",
        "        model.load_state_dict(state_dict)\n",
        "    return model\n",
        "\n",
        "model = cifar10(pretrained=True)\n",
        "\n",
        "# loss and optimizer\n",
        "criterion = nn.CrossEntropyLoss()\n",
        "optimizer = torch.optim.Adam(model.parameters(), lr=0.001)\n",
        "\n",
        "from secml.ml.features.normalization import CNormalizerMeanStd\n",
        "\n",
        "transform = CNormalizerMeanStd(mean=(0.5,0.5,0.5), \n",
        "                              std=(0.5,0.5,0.5), \n",
        "                              with_std=True)\n",
        "\n",
        "\n",
        "from secml.ml.classifiers import CClassifierPyTorch\n",
        "clf = CClassifierPyTorch(model=model,\n",
        "                         loss=criterion,\n",
        "                         optimizer=optimizer,\n",
        "                         preprocess = transform,\n",
        "                         pretrained=True,\n",
        "                         epochs=100,\n",
        "                         batch_size=64,\n",
        "                         input_shape=(3, 32, 32),\n",
        "                         random_state=0)"
      ],
      "execution_count": null,
      "outputs": []
    },
    {
      "cell_type": "code",
      "metadata": {
        "id": "BNiEocDWle0Y",
        "colab_type": "code",
        "colab": {
          "base_uri": "https://localhost:8080/",
          "height": 34
        },
        "outputId": "41b89cfa-4497-47f2-ebef-947cba5df6b8"
      },
      "source": [
        "label_torch = clf.predict(ts.X, return_decision_function=False)\n",
        "\n",
        "from secml.ml.peval.metrics import CMetric\n",
        "metric = CMetric.create('accuracy')\n",
        "acc_torch = metric.performance_score(ts.Y, label_torch)\n",
        "\n",
        "print(\"Model Accuracy: {}\".format(acc_torch))"
      ],
      "execution_count": null,
      "outputs": [
        {
          "output_type": "stream",
          "text": [
            "Model Accuracy: 0.9378\n"
          ],
          "name": "stdout"
        }
      ]
    },
    {
      "cell_type": "code",
      "metadata": {
        "id": "PCf4rcMW9GQX",
        "colab_type": "code",
        "colab": {}
      },
      "source": [
        "from keras.layers import Input, Conv2D, AveragePooling2D, UpSampling2D\n",
        "from keras.models import Model\n",
        "from keras.optimizers import Adam\n",
        "from keras.losses import MeanSquaredError\n",
        "import numpy as np\n",
        "from keras.models import load_model\n",
        "\n",
        "\n",
        "def create_autoencoder():\n",
        " \n",
        "    #---------------------------------------------------------------------------\n",
        "    #---------------------------------------------------------------------------\n",
        "    #                       DEFINE AUTOENCODER ARCHITECTURE\n",
        "    #---------------------------------------------------------------------------\n",
        "    #---------------------------------------------------------------------------\n",
        "\n",
        "    input_img = Input(shape=(32, 32, 3))\n",
        " \n",
        "    x = Conv2D(32, (5, 5), activation='relu', padding='same')(input_img)\n",
        "    x = Conv2D(32, (5, 5), activation='relu', padding='same')(x)\n",
        "    x = AveragePooling2D((2, 2), padding='same')(x) #16x16\n",
        "    x = Conv2D(64, (3, 3), activation='relu', padding='same')(x)\n",
        "    x = Conv2D(64, (3, 3), activation='relu', padding='same')(x)\n",
        "    x = AveragePooling2D((2, 2), padding='same')(x)   #8x8\n",
        "    x = Conv2D(128, (3, 3), activation='relu', padding='same')(x)\n",
        "    x = AveragePooling2D((2, 2), padding='same')(x)   #4x4\n",
        "    encoded = Conv2D(128, (3, 3), activation='relu', padding='same')(x)\n",
        " \n",
        "    # at this point the representation is (4, 4, 128)\n",
        " \n",
        "    x = Conv2D(128, (3, 3), activation='relu', padding='same')(encoded)\n",
        "    x = UpSampling2D((2, 2))(x) #8x8\n",
        "    x = Conv2D(128, (3, 3), activation='relu', padding='same')(x)\n",
        "    x = UpSampling2D((2, 2))(x) #16x16\n",
        "    x = Conv2D(64, (5, 5), activation='relu', padding='same')(x)\n",
        "    x = Conv2D(64, (5, 5), activation='relu', padding='same')(x)\n",
        "    x = UpSampling2D((2, 2))(x) #32x32\n",
        "    x = Conv2D(32, (5, 5), activation='relu', padding='same')(x)\n",
        "    x = Conv2D(32, (5, 5), activation='relu', padding='same')(x)\n",
        "    decoded = Conv2D(3, (3, 3), activation='sigmoid', padding='same')(x)\n",
        " \n",
        "    autoencoder = Model(input_img, decoded)\n",
        "    \n",
        "    return autoencoder"
      ],
      "execution_count": null,
      "outputs": []
    },
    {
      "cell_type": "code",
      "metadata": {
        "id": "WgwYDVgrnee5",
        "colab_type": "code",
        "colab": {}
      },
      "source": [
        "n_images = 1000\n",
        "# For simplicity, let's attack a subset of the test set\n",
        "attack_ds = ts[:n_images, :]\n",
        "#da aummentare\n",
        "\n",
        "noise_type = 'l2'  # Type of perturbation 'l1' or 'l2'\n",
        "dmax = 1.0  # Maximum perturbation\n",
        "lb, ub = 0., 1.  # Bounds of the attack space. Can be set to `None` for unbounded\n",
        "y_target = None  # None if `error-generic` or a class label for `error-specific`\n",
        "\n",
        "# Should be chosen depending on the optimization problem\n",
        "solver_params = {\n",
        "    'eta': 0.5, #learning rate\n",
        "    'eta_min': 2.0, #starting lr\n",
        "    'eta_max': None,\n",
        "    'max_iter': 100,\n",
        "    'eps': 1e-6 #try 1e-4\n",
        "}\n",
        "\n",
        "from secml.adv.attacks import CAttackEvasionPGDLS\n",
        "pgd_ls_attack = CAttackEvasionPGDLS(classifier=clf,\n",
        "                                    double_init_ds=tr,\n",
        "                                    distance=noise_type,\n",
        "                                    dmax=dmax,\n",
        "                                    solver_params=solver_params,\n",
        "                                    y_target=y_target)\n",
        "\n",
        "print(\"Attack started...\")\n",
        "eva_y_pred, _, eva_adv_ds, _ = pgd_ls_attack.run(attack_ds.X, attack_ds.Y)\n",
        "print(\"Attack complete!\")"
      ],
      "execution_count": null,
      "outputs": []
    },
    {
      "cell_type": "code",
      "metadata": {
        "id": "-MVZYO53Ecjm",
        "colab_type": "code",
        "colab": {}
      },
      "source": [
        "eva_img = eva_adv_ds.X\n",
        "eva_img_trasformed = np.transpose(eva_img.tondarray().reshape((n_images, 3, 32, 32)), (0,2,3,1))\n",
        "\n",
        "model_name = \"autoencoderCifar_100.h5\"\n",
        "autoencoder = create_autoencoder()\n",
        "autoencoder.load_weights(path_autoencoders + model_name)\n",
        "decoded_imgs = autoencoder.predict(eva_img_trasformed)\n",
        "\n",
        "from secml.array import CArray\n",
        "\n",
        "decoded_imgs_trasformed = np.transpose(decoded_imgs, (0,3,1,2))\n",
        "decoded_imgs_trasformed = CArray(decoded_imgs_trasformed.reshape(eva_img.shape))\n",
        "y_pred_clean = clf.predict(decoded_imgs_trasformed)\n",
        "\n",
        "acc = metric.performance_score(\n",
        "    y_true=attack_ds.Y, y_pred=clf.predict(attack_ds.X))\n",
        "acc_attack = metric.performance_score(\n",
        "    y_true=attack_ds.Y, y_pred=eva_y_pred)\n",
        "acc_attack_clean = metric.performance_score(\n",
        "    y_true=attack_ds.Y, y_pred=y_pred_clean)\n",
        "\n",
        "print(\"Accuracy on reduced test set before attack: {:.2%}\".format(acc))\n",
        "print(\"Accuracy on reduced test set after attack: {:.2%}\".format(acc_attack))\n",
        "print(\"Accuracy on reduced test set after attack and cleaning the images: {:.2%}\".format(acc_attack_clean))"
      ],
      "execution_count": null,
      "outputs": []
    },
    {
      "cell_type": "code",
      "metadata": {
        "id": "t1B-zAO308nq",
        "colab_type": "code",
        "colab": {
          "base_uri": "https://localhost:8080/",
          "height": 247
        },
        "outputId": "547f791c-9413-4ebd-9e7b-4b214e3bf2a5"
      },
      "source": [
        "from secml.figure import CFigure\n",
        "%matplotlib inline\n",
        "k=0\n",
        "\n",
        "start_img_k = attack_ds.X[k,:]\n",
        "eva_img_k = eva_img[k,:]\n",
        "\n",
        "# normalize perturbation for visualization\n",
        "diff_img_k = start_img_k - eva_img_k\n",
        "diff_img_k -= diff_img_k.min()\n",
        "diff_img_k /= diff_img_k.max()\n",
        "\n",
        "decode_img_k = decoded_imgs[k,:]\n",
        "\n",
        "import numpy as np\n",
        "start_img_k = np.transpose(start_img_k.tondarray().reshape((3, 32, 32)), (1, 2, 0))\n",
        "diff_img_k = np.transpose(diff_img_k.tondarray().reshape((3, 32, 32)), (1, 2, 0))\n",
        "eva_img_k = np.transpose(eva_img_k.tondarray().reshape((3, 32, 32)), (1, 2, 0))\n",
        "\n",
        "fig = CFigure(width=15, height=5)\n",
        "fig.subplot(1, 4, 1)\n",
        "fig.sp.imshow(start_img_k)\n",
        "fig.sp.title(\"Original image\\n true class : \" + classes[attack_ds.Y[k].item()])\n",
        "fig.sp.xticks([])\n",
        "fig.sp.yticks([])\n",
        "\n",
        "fig.subplot(1, 4, 2)\n",
        "fig.sp.imshow(diff_img_k)\n",
        "fig.sp.title(\"Amplified perturbation\")\n",
        "fig.sp.xticks([])\n",
        "fig.sp.yticks([])\n",
        "\n",
        "fig.subplot(1, 4, 3)\n",
        "fig.sp.imshow(eva_img_k)\n",
        "fig.sp.title(\"Adversarial example\\npredicted class : \" + classes[eva_y_pred[k].item()])\n",
        "fig.sp.xticks([])\n",
        "fig.sp.yticks([])\n",
        "\n",
        "\n",
        "fig.subplot(1, 4, 4)\n",
        "fig.sp.imshow(decoded_imgs[k].reshape(32, 32, 3))\n",
        "fig.sp.title(\"Reconstructed image\\npredicted class : \" + classes[y_pred_clean[k].item()])\n",
        "fig.sp.xticks([])\n",
        "fig.sp.yticks([])\n",
        "\n",
        "fig.show()\n"
      ],
      "execution_count": null,
      "outputs": [
        {
          "output_type": "display_data",
          "data": {
            "image/png": "[encoded data removed]",
            "text/plain": [
              "<Figure size 1080x360 with 4 Axes>"
            ]
          },
          "metadata": {
            "tags": []
          }
        }
      ]
    },
    {
      "cell_type": "code",
      "metadata": {
        "id": "z3ROiVGAqX6m",
        "colab_type": "code",
        "colab": {
          "base_uri": "https://localhost:8080/",
          "height": 390
        },
        "outputId": "fc529a9b-0bad-4693-facd-b55301614a8b"
      },
      "source": [
        "# Perturbation levels to test\n",
        "e_vals = CArray.arange(start=0, step=0.1, stop=1.1)\n",
        "\n",
        "from secml.adv.seceval import CSecEval\n",
        "sec_eval = CSecEval(\n",
        "    attack=pgd_ls_attack, param_name='dmax', param_values=e_vals)\n",
        "\n",
        "# Run the security evaluation using the test set\n",
        "print(\"Running security evaluation...\")\n",
        "sec_eval.run_sec_eval(attack_ds)\n",
        "print(\"Finish security evaluation...\")\n",
        " \n",
        "fig = CFigure(height=5, width=5)\n",
        "\n",
        "# Convenience function for plotting the Security Evaluation Curve\n",
        "fig.sp.plot_sec_eval(\n",
        "    sec_eval.sec_eval_data, marker='o', label='CNN CIFAR10', show_average=True)\n",
        "fig.show()"
      ],
      "execution_count": null,
      "outputs": [
        {
          "output_type": "stream",
          "text": [
            "Running security evaluation...\n",
            "Finish security evaluation...\n"
          ],
          "name": "stdout"
        },
        {
          "output_type": "display_data",
          "data": {
            "image/png": "[encoded data removed]",
            "text/plain": [
              "<Figure size 360x360 with 1 Axes>"
            ]
          },
          "metadata": {
            "tags": [],
            "needs_background": "light"
          }
        }
      ]
    },
    {
      "cell_type": "code",
      "metadata": {
        "id": "pX6LFQ_RuuHE",
        "colab_type": "code",
        "colab": {
          "base_uri": "https://localhost:8080/",
          "height": 295
        },
        "outputId": "3077a291-ae5b-4904-9073-b0a2342ce5c2"
      },
      "source": [
        "dmax_max = 1.1  # Maximum perturbation\n",
        "v_dmax = np.arange(0, dmax_max, 0.1)\n",
        "idx_max = v_dmax.size\n",
        "v_acc_attack_clean = np.zeros(idx_max)\n",
        "\n",
        "for i in range(0,idx_max):\n",
        "        dmax = v_dmax[i]\n",
        "        pgd_ls_attack = CAttackEvasionPGDLS(classifier=clf,\n",
        "                                            double_init_ds=tr,\n",
        "                                            distance=noise_type,\n",
        "                                            dmax=dmax,\n",
        "                                            solver_params=solver_params,\n",
        "                                            y_target=y_target)\n",
        "\n",
        "        print(\"Attack with dmax %.1f started...\" %(dmax))\n",
        "        eva_y_pred, _, eva_adv_ds, _ = pgd_ls_attack.run(attack_ds.X, attack_ds.Y)\n",
        "        print(\"Attack complete!\")\n",
        "\n",
        "        eva_img = eva_adv_ds.X\n",
        "        eva_img_trasformed = np.transpose(eva_img.tondarray().reshape((n_images, 3, 32, 32)), (0,2,3,1))\n",
        "\n",
        "        decoded_imgs = autoencoder.predict(eva_img_trasformed)\n",
        "\n",
        "        decoded_imgs_trasformed = np.transpose(decoded_imgs, (0,3,1,2))\n",
        "        decoded_imgs_trasformed = CArray(decoded_imgs_trasformed.reshape(eva_img.shape))\n",
        "        y_pred_clean = clf.predict(decoded_imgs_trasformed)\n",
        "\n",
        "        acc_attack_clean = metric.performance_score(\n",
        "            y_true=attack_ds.Y, y_pred=y_pred_clean)\n",
        "        \n",
        "        v_acc_attack_clean[i] = acc_attack_clean\n",
        "\n",
        "\n",
        "fig = plt.figure()\n",
        "ax = fig.add_subplot(1, 1, 1)\n",
        "plt.plot(v_dmax,v_acc_attack_clean, 'b', marker='o')\n",
        "plt.ylim(0, 1.0)\n",
        "plt.grid(b=True, which='major', axis='both', color='k', linestyle='-', linewidth=0.2)\n",
        "plt.xlabel('dmax')\n",
        "plt.ylabel('Accuracy')\n",
        "plt.title('Security Evaluation Curve')\n",
        "plt.legend(['CNN CIFAR10'], loc='upper right')\n",
        "\n",
        "major_ticks_x = np.arange(0, 1.1, 0.1)\n",
        "major_ticks_y = np.arange(0, 1.0, 0.2)\n",
        "ax.set_xticks(major_ticks_x)\n",
        "ax.set_yticks(major_ticks_y)\n",
        "\n",
        "ax.grid(which='both')\n",
        "ax.grid(which='major')\n",
        "\n",
        "plt.show()"
      ],
      "execution_count": null,
      "outputs": [
        {
          "output_type": "display_data",
          "data": {
            "image/png": "[encoded data removed]",
            "text/plain": [
              "<Figure size 432x288 with 1 Axes>"
            ]
          },
          "metadata": {
            "tags": [],
            "needs_background": "light"
          }
        }
      ]
    }
  ]
}