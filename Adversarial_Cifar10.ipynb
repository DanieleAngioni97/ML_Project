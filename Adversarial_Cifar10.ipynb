{
  "nbformat": 4,
  "nbformat_minor": 0,
  "metadata": {
    "colab": {
      "name": "Adversarial_Cifar10.ipynb",
      "provenance": [],
      "collapsed_sections": [],
      "include_colab_link": true
    },
    "kernelspec": {
      "name": "python3",
      "display_name": "Python 3"
    },
    "accelerator": "GPU"
  },
  "cells": [
    {
      "cell_type": "markdown",
      "metadata": {
        "id": "view-in-github",
        "colab_type": "text"
      },
      "source": [
        "<a href=\"https://colab.research.google.com/github/DanieleAngioni97/ML_Project/blob/master/Adversarial_Cifar10.ipynb\" target=\"_parent\"><img src=\"https://colab.research.google.com/assets/colab-badge.svg\" alt=\"Open In Colab\"/></a>"
      ]
    },
    {
      "cell_type": "code",
      "metadata": {
        "id": "WZ1JnZwgbkeV",
        "colab_type": "code",
        "colab": {
          "base_uri": "https://localhost:8080/",
          "height": 306
        },
        "outputId": "4150ebaa-5ceb-4052-d6dd-4afbb7fc2a07"
      },
      "source": [
        "!pip3 install secml"
      ],
      "execution_count": 1,
      "outputs": [
        {
          "output_type": "stream",
          "text": [
            "Requirement already satisfied: secml in /usr/local/lib/python3.6/dist-packages (0.12)\n",
            "Requirement already satisfied: scikit-learn>=0.21 in /usr/local/lib/python3.6/dist-packages (from secml) (0.22.2.post1)\n",
            "Requirement already satisfied: requests in /usr/local/lib/python3.6/dist-packages (from secml) (2.23.0)\n",
            "Requirement already satisfied: python-dateutil in /usr/local/lib/python3.6/dist-packages (from secml) (2.8.1)\n",
            "Requirement already satisfied: matplotlib~=3.0.0 in /usr/local/lib/python3.6/dist-packages (from secml) (3.0.3)\n",
            "Requirement already satisfied: joblib in /usr/local/lib/python3.6/dist-packages (from secml) (0.16.0)\n",
            "Requirement already satisfied: scipy>=1.3.1 in /usr/local/lib/python3.6/dist-packages (from secml) (1.4.1)\n",
            "Requirement already satisfied: numpy>=1.17 in /usr/local/lib/python3.6/dist-packages (from secml) (1.18.5)\n",
            "Requirement already satisfied: Pillow<7 in /usr/local/lib/python3.6/dist-packages (from secml) (6.2.2)\n",
            "Requirement already satisfied: chardet<4,>=3.0.2 in /usr/local/lib/python3.6/dist-packages (from requests->secml) (3.0.4)\n",
            "Requirement already satisfied: urllib3!=1.25.0,!=1.25.1,<1.26,>=1.21.1 in /usr/local/lib/python3.6/dist-packages (from requests->secml) (1.24.3)\n",
            "Requirement already satisfied: idna<3,>=2.5 in /usr/local/lib/python3.6/dist-packages (from requests->secml) (2.10)\n",
            "Requirement already satisfied: certifi>=2017.4.17 in /usr/local/lib/python3.6/dist-packages (from requests->secml) (2020.6.20)\n",
            "Requirement already satisfied: six>=1.5 in /usr/local/lib/python3.6/dist-packages (from python-dateutil->secml) (1.15.0)\n",
            "Requirement already satisfied: pyparsing!=2.0.4,!=2.1.2,!=2.1.6,>=2.0.1 in /usr/local/lib/python3.6/dist-packages (from matplotlib~=3.0.0->secml) (2.4.7)\n",
            "Requirement already satisfied: kiwisolver>=1.0.1 in /usr/local/lib/python3.6/dist-packages (from matplotlib~=3.0.0->secml) (1.2.0)\n",
            "Requirement already satisfied: cycler>=0.10 in /usr/local/lib/python3.6/dist-packages (from matplotlib~=3.0.0->secml) (0.10.0)\n"
          ],
          "name": "stdout"
        }
      ]
    },
    {
      "cell_type": "code",
      "metadata": {
        "id": "8Kh_f6VQVnYa",
        "colab_type": "code",
        "colab": {}
      },
      "source": [
        "import torch \n",
        "import torchvision\n",
        "import numpy as np\n",
        "import torchvision.transforms as transforms\n",
        "\n",
        "import matplotlib.pyplot as plt\n",
        "\n",
        "from secml.data.loader.c_dataloader_cifar import CDataLoaderCIFAR10\n",
        "\n",
        "loader = CDataLoaderCIFAR10()\n",
        "_ , ts = loader.load()\n",
        "\n",
        "# Normalize the data\n",
        "ts.X /= 255\n",
        "\n",
        "from secml.ml.features.normalization import CNormalizerMeanStd\n",
        "\n",
        "trasform = CNormalizerMeanStd(mean=(0.5,0.5,0.5), std=(0.5,0.5,0.5), with_std=True)\n",
        "ts_norm = trasform.transform(ts.X)\n",
        "\n",
        "classes = ('plane', 'car', 'bird', 'cat',\n",
        "           'deer', 'dog', 'frog', 'horse', 'ship', 'truck')"
      ],
      "execution_count": 17,
      "outputs": []
    },
    {
      "cell_type": "code",
      "metadata": {
        "id": "BZFCPio7wi1q",
        "colab_type": "code",
        "colab": {
          "base_uri": "https://localhost:8080/",
          "height": 122
        },
        "outputId": "fa038c31-dda0-43a9-ffca-9ef9754a57e1"
      },
      "source": [
        "from google.colab import drive\n",
        "drive.mount('/content/drive/')\n",
        "\n",
        "path_adversarial = \"/content/drive/My Drive/Colab_Notebooks/ML_Project/convnet_saved/\"\n",
        "path_autoencoders = \"/content/drive/My Drive/Colab_Notebooks/ML_Project/models_saved/\""
      ],
      "execution_count": 4,
      "outputs": [
        {
          "output_type": "stream",
          "text": [
            "Go to this URL in a browser: https://accounts.google.com/o/oauth2/auth?client_id=947318989803-6bn6qk8qdgf4n4g3pfee6491hc0brc4i.apps.googleusercontent.com&redirect_uri=urn%3aietf%3awg%3aoauth%3a2.0%3aoob&response_type=code&scope=email%20https%3a%2f%2fwww.googleapis.com%2fauth%2fdocs.test%20https%3a%2f%2fwww.googleapis.com%2fauth%2fdrive%20https%3a%2f%2fwww.googleapis.com%2fauth%2fdrive.photos.readonly%20https%3a%2f%2fwww.googleapis.com%2fauth%2fpeopleapi.readonly\n",
            "\n",
            "Enter your authorization code:\n",
            "··········\n",
            "Mounted at /content/drive/\n"
          ],
          "name": "stdout"
        }
      ]
    },
    {
      "cell_type": "code",
      "metadata": {
        "id": "MAgaxfJzWl9L",
        "colab_type": "code",
        "colab": {}
      },
      "source": [
        "import torch.nn as nn\n",
        "import torch.utils.model_zoo as model_zoo\n",
        "from collections import OrderedDict\n",
        "\n",
        "\n",
        "class CIFAR(nn.Module):\n",
        "    def __init__(self, features, n_channel, num_classes):\n",
        "        super(CIFAR, self).__init__()\n",
        "        assert isinstance(features, nn.Sequential), type(features)\n",
        "        self.features = features\n",
        "        self.classifier = nn.Sequential(\n",
        "            nn.Linear(n_channel, num_classes)\n",
        "        )\n",
        "        # print(self.features)\n",
        "        # print(self.classifier)\n",
        "\n",
        "    def forward(self, x):\n",
        "        x = self.features(x)\n",
        "        x = x.view(x.size(0), -1)\n",
        "        x = self.classifier(x)\n",
        "        return x\n",
        "\n",
        "def make_layers(cfg, batch_norm=False):\n",
        "    layers = []\n",
        "    in_channels = 3\n",
        "    for i, v in enumerate(cfg):\n",
        "        if v == 'M':\n",
        "            layers += [nn.MaxPool2d(kernel_size=2, stride=2)]\n",
        "        else:\n",
        "            padding = v[1] if isinstance(v, tuple) else 1\n",
        "            out_channels = v[0] if isinstance(v, tuple) else v\n",
        "            conv2d = nn.Conv2d(in_channels, out_channels, kernel_size=3, padding=padding)\n",
        "            if batch_norm:\n",
        "                layers += [conv2d, nn.BatchNorm2d(out_channels, affine=False), nn.ReLU()]\n",
        "            else:\n",
        "                layers += [conv2d, nn.ReLU()]\n",
        "            in_channels = out_channels\n",
        "    return nn.Sequential(*layers)\n",
        "\n",
        "\n",
        "def cifar10(n_channel=128, pretrained=None):\n",
        "    cfg = [n_channel, n_channel, 'M', 2*n_channel, 2*n_channel,\n",
        "           'M', 4*n_channel, 4*n_channel, 'M', (8*n_channel, 0), 'M']\n",
        "    layers = make_layers(cfg, batch_norm=True)\n",
        "    model = CIFAR(layers, n_channel=8*n_channel, num_classes=10)\n",
        "    if pretrained is not None:\n",
        "        m = model_zoo.load_url(\n",
        "            'http://ml.cs.tsinghua.edu.cn/~chenxi/pytorch-models/cifar10-d875770b.pth')\n",
        "        state_dict = m.state_dict() if isinstance(m, nn.Module) else m\n",
        "        assert isinstance(state_dict, (dict, OrderedDict)), type(state_dict)\n",
        "        model.load_state_dict(state_dict)\n",
        "    return model\n",
        "\n",
        "model = cifar10(pretrained=True)\n",
        "\n",
        "# loss and optimizer\n",
        "criterion = nn.CrossEntropyLoss()\n",
        "optimizer = torch.optim.Adam(model.parameters(), lr=0.001)\n",
        "\n",
        "from secml.ml.classifiers import CClassifierPyTorch\n",
        "clf = CClassifierPyTorch(model=model,\n",
        "                         loss=criterion,\n",
        "                         optimizer=optimizer,\n",
        "                         pretrained=True,\n",
        "                         epochs=100,\n",
        "                         batch_size=64,\n",
        "                         input_shape=(3, 32, 32),\n",
        "                         random_state=0)"
      ],
      "execution_count": 10,
      "outputs": []
    },
    {
      "cell_type": "code",
      "metadata": {
        "id": "BNiEocDWle0Y",
        "colab_type": "code",
        "colab": {
          "base_uri": "https://localhost:8080/",
          "height": 34
        },
        "outputId": "b2cea2ff-8006-4c15-c66c-308273cf358a"
      },
      "source": [
        "label_torch = clf.predict(ts_norm, return_decision_function=False)\n",
        "\n",
        "from secml.ml.peval.metrics import CMetric\n",
        "metric = CMetric.create('accuracy')\n",
        "acc_torch = metric.performance_score(ts.Y, label_torch)\n",
        "\n",
        "print(\"Model Accuracy: {}\".format(acc_torch))"
      ],
      "execution_count": 16,
      "outputs": [
        {
          "output_type": "stream",
          "text": [
            "Model Accuracy: 0.9378\n"
          ],
          "name": "stdout"
        }
      ]
    },
    {
      "cell_type": "code",
      "metadata": {
        "id": "WgwYDVgrnee5",
        "colab_type": "code",
        "colab": {
          "base_uri": "https://localhost:8080/",
          "height": 52
        },
        "outputId": "c38200f5-7d84-4bcd-81c6-930dfc5c3d3b"
      },
      "source": [
        "n_images = 100\n",
        "# For simplicity, let's attack a subset of the test set\n",
        "attack_ds = ts[:n_images, :]\n",
        "#da aummentare\n",
        "\n",
        "attack_ds_norm = trasform.transform(attack_ds.X)\n",
        "\n",
        "noise_type = 'l2'  # Type of perturbation 'l1' or 'l2'\n",
        "dmax = 0  # Maximum perturbation\n",
        "lb, ub = 0., 1.  # Bounds of the attack space. Can be set to `None` for unbounded\n",
        "y_target = None  # None if `error-generic` or a class label for `error-specific`\n",
        "\n",
        "# Should be chosen depending on the optimization problem\n",
        "solver_params = {\n",
        "    'eta': 0.5, #learning rate\n",
        "    'eta_min': 2.0, #starting lr\n",
        "    'eta_max': None,\n",
        "    'max_iter': 100,\n",
        "    'eps': 1e-6 #try 1e-4\n",
        "}\n",
        "\n",
        "from secml.adv.attacks import CAttackEvasionPGDLS\n",
        "pgd_ls_attack = CAttackEvasionPGDLS(classifier=clf,\n",
        "                                    surrogate_classifier=clf,\n",
        "                                    surrogate_data=tr,\n",
        "                                    distance=noise_type,\n",
        "                                    dmax=dmax,\n",
        "                                    solver_params=solver_params,\n",
        "                                    y_target=y_target)\n",
        "\n",
        "print(\"Attack started...\")\n",
        "eva_y_pred, _, eva_adv_ds, _ = pgd_ls_attack.run(\n",
        "    attack_ds_norm, attack_ds.Y, double_init=True)\n",
        "print(\"Attack complete!\")"
      ],
      "execution_count": null,
      "outputs": [
        {
          "output_type": "stream",
          "text": [
            "Attack started...\n",
            "Attack complete!\n"
          ],
          "name": "stdout"
        }
      ]
    },
    {
      "cell_type": "code",
      "metadata": {
        "id": "vUPmTsESHN3G",
        "colab_type": "code",
        "colab": {
          "base_uri": "https://localhost:8080/",
          "height": 52
        },
        "outputId": "9f6d7460-422e-41b6-e730-60e741ea8582"
      },
      "source": [
        "print(attack_ds.X)\n",
        "print(eva_adv_ds.X)"
      ],
      "execution_count": null,
      "outputs": [
        {
          "output_type": "stream",
          "text": [
            "CArray([[0.619608 0.623529 0.647059 ... 0.486275 0.505882 0.431373]])\n",
            "CArray([[0.619608 0.623529 0.647059 ... 0.486275 0.505882 0.431373]])\n"
          ],
          "name": "stdout"
        }
      ]
    },
    {
      "cell_type": "code",
      "metadata": {
        "id": "PCf4rcMW9GQX",
        "colab_type": "code",
        "colab": {}
      },
      "source": [
        "from keras.layers import Input, Conv2D, AveragePooling2D, UpSampling2D\n",
        "from keras.models import Model\n",
        "from keras.optimizers import Adam\n",
        "from keras.losses import MeanSquaredError\n",
        "import numpy as np\n",
        "from keras.models import load_model\n",
        "\n",
        "\n",
        "def create_autoencoder():\n",
        " \n",
        "    #---------------------------------------------------------------------------\n",
        "    #---------------------------------------------------------------------------\n",
        "    #                       DEFINE AUTOENCODER ARCHITECTURE\n",
        "    #---------------------------------------------------------------------------\n",
        "    #---------------------------------------------------------------------------\n",
        "\n",
        "    input_img = Input(shape=(32, 32, 3))\n",
        " \n",
        "    x = Conv2D(32, (5, 5), activation='relu', padding='same')(input_img)\n",
        "    x = Conv2D(32, (5, 5), activation='relu', padding='same')(x)\n",
        "    x = AveragePooling2D((2, 2), padding='same')(x) #16x16\n",
        "    x = Conv2D(64, (3, 3), activation='relu', padding='same')(x)\n",
        "    x = Conv2D(64, (3, 3), activation='relu', padding='same')(x)\n",
        "    x = AveragePooling2D((2, 2), padding='same')(x)   #8x8\n",
        "    x = Conv2D(128, (3, 3), activation='relu', padding='same')(x)\n",
        "    x = AveragePooling2D((2, 2), padding='same')(x)   #4x4\n",
        "    encoded = Conv2D(128, (3, 3), activation='relu', padding='same')(x)\n",
        " \n",
        "    # at this point the representation is (4, 4, 128)\n",
        " \n",
        "    x = Conv2D(128, (3, 3), activation='relu', padding='same')(encoded)\n",
        "    x = UpSampling2D((2, 2))(x) #8x8\n",
        "    x = Conv2D(128, (3, 3), activation='relu', padding='same')(x)\n",
        "    x = UpSampling2D((2, 2))(x) #16x16\n",
        "    x = Conv2D(64, (5, 5), activation='relu', padding='same')(x)\n",
        "    x = Conv2D(64, (5, 5), activation='relu', padding='same')(x)\n",
        "    x = UpSampling2D((2, 2))(x) #32x32\n",
        "    x = Conv2D(32, (5, 5), activation='relu', padding='same')(x)\n",
        "    x = Conv2D(32, (5, 5), activation='relu', padding='same')(x)\n",
        "    decoded = Conv2D(3, (3, 3), activation='sigmoid', padding='same')(x)\n",
        " \n",
        "    autoencoder = Model(input_img, decoded)\n",
        "    \n",
        "    return autoencoder\n",
        "\n",
        "model_name = \"autoencoderCifar_100.h5\"\n",
        " \n",
        "autoencoder = create_autoencoder()\n",
        "#autoencoder.load_weights(path_autoencoders + model_name)\n",
        "\n",
        "autoencoder.load_weights('/content/autoencoderCifar_100.h5')\n",
        "\n",
        "eva_img = eva_adv_ds.X\n",
        "\n",
        "eva_img_anorm = trasform.inverse_transform(eva_img)\n",
        "\n",
        "eva_img_anorm_trasformed = eva_img.tondarray().reshape(n_images, 32, 32, 3)\n",
        "\n",
        "#eva_img_trasformed = np.transpose(eva_img.tondarray().reshape((n_images, 3, 32, 32)), (0, 2, 3, 1))\n",
        "\n",
        "# eva_img_np = eva_img.tondarray()\n",
        "# eva_img_np = np.squeeze(eva_img_np)\n",
        "# eva_img_trasformed = eva_img_np.reshape(32, 32, 3)\n",
        "\n",
        "\n",
        "decoded_imgs = autoencoder.predict(eva_img_anorm_trasformed)"
      ],
      "execution_count": null,
      "outputs": []
    },
    {
      "cell_type": "code",
      "metadata": {
        "id": "pqeYXWQSBNUK",
        "colab_type": "code",
        "colab": {
          "base_uri": "https://localhost:8080/",
          "height": 35
        },
        "outputId": "06dac7f3-edd4-4df0-9a63-54060b5efb65"
      },
      "source": [
        "print(eva_img_np.shape)\n",
        "#print(eva_img)\n"
      ],
      "execution_count": null,
      "outputs": [
        {
          "output_type": "stream",
          "text": [
            "(3072,)\n"
          ],
          "name": "stdout"
        }
      ]
    },
    {
      "cell_type": "code",
      "metadata": {
        "id": "-MVZYO53Ecjm",
        "colab_type": "code",
        "colab": {
          "base_uri": "https://localhost:8080/",
          "height": 70
        },
        "outputId": "147f76d7-ed99-4a4a-ca80-88ecbcea02bb"
      },
      "source": [
        "from secml.array import CArray\n",
        "\n",
        "decoded_imgs_trasformed = CArray(decoded_imgs.reshape(eva_img.shape))\n",
        "\n",
        "decoded_imgs_trasformed_normalized = trasform.transform(decoded_imgs_trasformed)\n",
        "\n",
        "y_pred_clean = clf.predict(decoded_imgs_trasformed_normalized)\n",
        "acc = metric.performance_score(\n",
        "    y_true=attack_ds.Y, y_pred=clf.predict(attack_ds_trasform))\n",
        "acc_attack = metric.performance_score(\n",
        "    y_true=attack_ds.Y, y_pred=eva_y_pred)\n",
        "acc_attack_clean = metric.performance_score(\n",
        "    y_true=attack_ds.Y, y_pred=y_pred_clean)\n",
        "\n",
        "print(\"Accuracy on reduced test set before attack: {:.2%}\".format(acc))\n",
        "print(\"Accuracy on reduced test set after attack: {:.2%}\".format(acc_attack))\n",
        "print(\"Accuracy on reduced test set after attack and cleaning the images: {:.2%}\".format(acc_attack_clean))"
      ],
      "execution_count": null,
      "outputs": [
        {
          "output_type": "stream",
          "text": [
            "Accuracy on reduced test set before attack: 94.00%\n",
            "Accuracy on reduced test set after attack: 94.00%\n",
            "Accuracy on reduced test set after attack and cleaning the images: 15.00%\n"
          ],
          "name": "stdout"
        }
      ]
    },
    {
      "cell_type": "code",
      "metadata": {
        "id": "t1B-zAO308nq",
        "colab_type": "code",
        "colab": {
          "base_uri": "https://localhost:8080/",
          "height": 270
        },
        "outputId": "8020a5d2-46d5-4dcf-b014-c9fe6fb18310"
      },
      "source": [
        "from secml.figure import CFigure\n",
        "%matplotlib inline\n",
        "k=4\n",
        "\n",
        "start_img_k = attack_ds.X[k,:]\n",
        "eva_img_anorm_k = eva_img_anorm[k,:]\n",
        "\n",
        "# normalize perturbation for visualization\n",
        "diff_img_k = start_img_k - eva_img_anorm_k\n",
        "#diff_img -= diff_img.min()\n",
        "#diff_img /= diff_img.max()\n",
        "\n",
        "decode_img_k = decoded_imgs[k,:]\n",
        "\n",
        "import numpy as np\n",
        "start_img_k = np.transpose(start_img_k.tondarray().reshape((3, 32, 32)), (1, 2, 0))\n",
        "diff_img_k = np.transpose(diff_img_k.tondarray().reshape((3, 32, 32)), (1, 2, 0))\n",
        "eva_img_anorm_k = np.transpose(eva_img_anorm_k.tondarray().reshape((3, 32, 32)), (1, 2, 0))\n",
        "\n",
        "image_clear_k = np.transpose(decode_img_k.reshape((3, 32, 32)), (1, 2, 0))\n",
        "\n",
        "fig = CFigure(width=15, height=5)\n",
        "fig.subplot(1, 4, 1)\n",
        "fig.sp.imshow(start_img_k)\n",
        "fig.sp.title(classes[attack_ds.Y[k].item()])\n",
        "fig.sp.xticks([])\n",
        "fig.sp.yticks([])\n",
        "\n",
        "fig.subplot(1, 4, 2)\n",
        "fig.sp.imshow(diff_img_k)\n",
        "fig.sp.title(\"amplified perturbation\")\n",
        "fig.sp.xticks([])\n",
        "fig.sp.yticks([])\n",
        "\n",
        "fig.subplot(1, 4, 3)\n",
        "fig.sp.imshow(eva_img_anorm_k)\n",
        "fig.sp.title(classes[eva_y_pred[k].item()])\n",
        "fig.sp.xticks([])\n",
        "fig.sp.yticks([])\n",
        "\n",
        "\n",
        "fig.subplot(1, 4, 4)\n",
        "fig.sp.imshow(image_clear_k)\n",
        "fig.sp.title(classes[y_pred_clean[k].item()])\n",
        "fig.sp.xticks([])\n",
        "fig.sp.yticks([])\n",
        "\n",
        "fig.show()\n"
      ],
      "execution_count": null,
      "outputs": [
        {
          "output_type": "stream",
          "text": [
            "2020-07-23 12:25:55,881 - matplotlib.image - WARNING - Clipping input data to the valid range for imshow with RGB data ([0..1] for floats or [0..255] for integers).\n"
          ],
          "name": "stdout"
        },
        {
          "output_type": "display_data",
          "data": {
            "image/png": "[encoded data removed]",
            "text/plain": [
              "<Figure size 1080x360 with 4 Axes>"
            ]
          },
          "metadata": {
            "tags": []
          }
        }
      ]
    },
    {
      "cell_type": "code",
      "metadata": {
        "id": "WbMXnf-1lbLb",
        "colab_type": "code",
        "colab": {
          "base_uri": "https://localhost:8080/",
          "height": 70
        },
        "outputId": "98e20f98-395b-4b5e-87e5-4c1869ad4518"
      },
      "source": [
        "print(eva_img_anorm.shape)\n",
        "print(start_img.shape)\n",
        "print(eva_img.shape)"
      ],
      "execution_count": null,
      "outputs": [
        {
          "output_type": "stream",
          "text": [
            "(1, 3072)\n",
            "(32, 32, 3)\n",
            "(32, 32, 3)\n"
          ],
          "name": "stdout"
        }
      ]
    },
    {
      "cell_type": "code",
      "metadata": {
        "id": "xPzhwoVEoQUC",
        "colab_type": "code",
        "colab": {
          "base_uri": "https://localhost:8080/",
          "height": 52
        },
        "outputId": "44fcdabc-5766-4683-f227-44659e993612"
      },
      "source": [
        "acc = metric.performance_score(\n",
        "    y_true=attack_ds.Y, y_pred=clf.predict(attack_ds.X))\n",
        "acc_attack = metric.performance_score(\n",
        "    y_true=attack_ds.Y, y_pred=eva_y_pred)\n",
        "\n",
        "print(\"Accuracy on reduced test set before attack: {:.2%}\".format(acc))\n",
        "print(\"Accuracy on reduced test set after attack: {:.2%}\".format(acc_attack))"
      ],
      "execution_count": null,
      "outputs": [
        {
          "output_type": "stream",
          "text": [
            "Accuracy on reduced test set before attack: 100.00%\n",
            "Accuracy on reduced test set after attack: 100.00%\n"
          ],
          "name": "stdout"
        }
      ]
    },
    {
      "cell_type": "code",
      "metadata": {
        "id": "z3ROiVGAqX6m",
        "colab_type": "code",
        "colab": {
          "base_uri": "https://localhost:8080/",
          "height": 392
        },
        "outputId": "a7931eec-bddd-4fb7-ab58-7088f08275c4"
      },
      "source": [
        "# Perturbation levels to test\n",
        "e_vals = CArray.arange(start=0, step=0.1, stop=0.4)\n",
        "\n",
        "from secml.adv.seceval import CSecEval\n",
        "sec_eval = CSecEval(\n",
        "    attack=pgd_ls_attack, param_name='dmax', param_values=e_vals)\n",
        "\n",
        "# Run the security evaluation using the test set\n",
        "print(\"Running security evaluation...\")\n",
        "sec_eval.run_sec_eval(attack_ds, double_init=False)\n",
        "print(\"Finish security evaluation...\")\n",
        " \n",
        "fig = CFigure(height=5, width=5)\n",
        "\n",
        "# Convenience function for plotting the Security Evaluation Curve\n",
        "fig.sp.plot_sec_eval(\n",
        "    sec_eval.sec_eval_data, marker='o', label='CNN CIFAR10', show_average=True)\n",
        "fig.show()"
      ],
      "execution_count": null,
      "outputs": [
        {
          "output_type": "stream",
          "text": [
            "Running security evaluation...\n",
            "Finish security evaluation...\n"
          ],
          "name": "stdout"
        },
        {
          "output_type": "display_data",
          "data": {
            "image/png": "[encoded data removed]",
            "text/plain": [
              "<Figure size 360x360 with 1 Axes>"
            ]
          },
          "metadata": {
            "tags": [],
            "needs_background": "light"
          }
        }
      ]
    },
    {
      "cell_type": "code",
      "metadata": {
        "id": "9Qfc7Hg_ljWb",
        "colab_type": "code",
        "colab": {
          "base_uri": "https://localhost:8080/",
          "height": 392
        },
        "outputId": "b3886819-f4d3-4636-b2df-f0736fde5c50"
      },
      "source": [
        "# Perturbation levels to test\n",
        "from secml.array import CArray\n",
        "e_vals = CArray.arange(start=0, step=0.1, stop=0.2)\n",
        "\n",
        "from secml.adv.seceval import CSecEval\n",
        "sec_eval = CSecEval(\n",
        "    attack=pgd_ls_attack, param_name='dmax', param_values=e_vals, save_adv_ds=True)\n",
        "\n",
        "# Run the security evaluation using the test set\n",
        "print(\"Running security evaluation...\")\n",
        "sec_eval.run_sec_eval(attack_ds, double_init=False)\n",
        "print(\"Finish security evaluation...\")\n",
        " \n",
        "from secml.figure import CFigure\n",
        "fig = CFigure(height=5, width=5)\n",
        "\n",
        "# Convenience function for plotting the Security Evaluation Curve\n",
        "fig.sp.plot_sec_eval(\n",
        "    sec_eval.sec_eval_data, marker='o', label='CNN CIFAR10', show_average=True)\n",
        "fig.show()"
      ],
      "execution_count": null,
      "outputs": [
        {
          "output_type": "stream",
          "text": [
            "Running security evaluation...\n",
            "Finish security evaluation...\n"
          ],
          "name": "stdout"
        },
        {
          "output_type": "display_data",
          "data": {
            "image/png": "[encoded data removed]",
            "text/plain": [
              "<Figure size 360x360 with 1 Axes>"
            ]
          },
          "metadata": {
            "tags": [],
            "needs_background": "light"
          }
        }
      ]
    },
    {
      "cell_type": "code",
      "metadata": {
        "id": "nlECjFxvrP7A",
        "colab_type": "code",
        "colab": {
          "base_uri": "https://localhost:8080/",
          "height": 55
        },
        "outputId": "cfcbb3c3-dc88-4af9-cf0b-4f2a8fdb2383"
      },
      "source": [
        "print(sec_eval.sec_eval_data.adv_ds)\n",
        "\n",
        "#sec_eval_data_trasformed = sec_eval.sec_eval_data.tondarray().reshape(n_images, 32, 32, 3)\n",
        "#decoded_imgs = autoencoder.predict(sec_eval_data_trasformed)\n"
      ],
      "execution_count": null,
      "outputs": [
        {
          "output_type": "stream",
          "text": [
            "[CDataset{'X': CArray(100, 3072)(dense: [[0.619608 0.623529 0.647059 ... 0.486275 0.505882 0.431373] [0.921569 0.905882 0.909804 ... 0.698039 0.74902  0.780392] [0.619608 0.619608 0.545098 ... 0.031373 0.011765 0.027451] ... [0.517647 0.521569 0.529412 ... 0.564706 0.560784 0.560784] [1.       1.       1.       ... 1.       1.       1.      ] [0.917647 0.933333 0.937255 ... 0.490196 0.537255 0.498039]]), 'Y': CArray(100,)(dense: [3 8 8 ... 0 0 7]), 'header': None}, CDataset{'X': CArray(100, 3072)(dense: [[0.619535 0.623385 0.646406 ... 0.486371 0.505857 0.431614] [0.921494 0.905791 0.910099 ... 0.698209 0.749084 0.780307] [0.619546 0.619852 0.545286 ... 0.030853 0.012325 0.027537] ... [0.51758  0.52148  0.5293   ... 0.564778 0.56081  0.560797] [0.999994 1.       1.       ... 0.999955 1.       1.      ] [0.917557 0.933357 0.937993 ... 0.489952 0.537263 0.497977]]), 'Y': CArray(100,)(dense: [3 8 8 ... 0 0 7]), 'header': None}]\n"
          ],
          "name": "stdout"
        }
      ]
    },
    {
      "cell_type": "code",
      "metadata": {
        "id": "pX6LFQ_RuuHE",
        "colab_type": "code",
        "colab": {
          "base_uri": "https://localhost:8080/",
          "height": 686
        },
        "outputId": "04312230-f28e-4c3e-a630-61c73d7e7028"
      },
      "source": [
        "from secml.adv.attacks import CAttackEvasionPGDLS\n",
        "n_images = 100\n",
        "# For simplicity, let's attack a subset of the test set\n",
        "attack_ds = ts[:n_images, :]\n",
        "#da aummentare\n",
        "\n",
        "noise_type = 'l2'  # Type of perturbation 'l1' or 'l2'\n",
        "\n",
        "lb, ub = 0., 1.  # Bounds of the attack space. Can be set to `None` for unbounded\n",
        "y_target = None  # None if `error-generic` or a class label for `error-specific`\n",
        "\n",
        "# Should be chosen depending on the optimization problem\n",
        "solver_params = {\n",
        "    'eta': 0.5, #learning rate\n",
        "    'eta_min': 2.0, #starting lr\n",
        "    'eta_max': None,\n",
        "    'max_iter': 100,\n",
        "    'eps': 1e-6 #try 1e-4\n",
        "}\n",
        "\n",
        "dmax_max = 1.1  # Maximum perturbation\n",
        "v_dmax = np.arange(0, dmax_max, 0.1)\n",
        "idx_max = v_dmax.size\n",
        "v_acc_attack_clean = np.zeros(idx_max)\n",
        "\n",
        "for i in range(0,idx_max):\n",
        "      dmax = v_dmax[i]\n",
        "      pgd_ls_attack = CAttackEvasionPGDLS(classifier=clf,\n",
        "                                    surrogate_classifier=clf,\n",
        "                                    surrogate_data=tr,\n",
        "                                    distance=noise_type,\n",
        "                                    dmax=dmax,\n",
        "                                    solver_params=solver_params,\n",
        "                                    y_target=y_target)\n",
        "      \n",
        "      print(\"Attack with dmax %.1f started...\" %(dmax))\n",
        "      eva_y_pred, _, eva_adv_ds, _ = pgd_ls_attack.run(\n",
        "          attack_ds.X, attack_ds.Y, double_init=True)\n",
        "      print(\"Attack complete!\")\n",
        "\n",
        "      eva_img = eva_adv_ds.X\n",
        "      eva_img_trasformed = eva_img.tondarray().reshape(n_images, 32, 32, 3)\n",
        "      decoded_imgs = autoencoder.predict(eva_img_trasformed)\n",
        "\n",
        "      decoded_imgs_trasformed = CArray(decoded_imgs.reshape(eva_img.shape))\n",
        "      y_pred_clean = clf.predict(decoded_imgs_trasformed)\n",
        "\n",
        "      acc_attack_clean = metric.performance_score(\n",
        "          y_true=attack_ds.Y, y_pred=y_pred_clean)\n",
        "      \n",
        "      v_acc_attack_clean[i] = acc_attack_clean\n",
        "\n",
        "plt.plot(v_dmax,v_acc_attack_clean, 'b', marker='o')\n",
        "plt.xlabel('dmax')\n",
        "plt.ylabel('Accuracy')\n",
        "plt.title('Security Evaluation Curve')\n",
        "plt.legend(['CNN CIFAR10'], loc='upper right')\n",
        "plt.show()"
      ],
      "execution_count": null,
      "outputs": [
        {
          "output_type": "stream",
          "text": [
            "Attack with 0.0 started...\n",
            "Attack complete!\n",
            "Attack with 0.1 started...\n",
            "Attack complete!\n",
            "Attack with 0.2 started...\n",
            "Attack complete!\n",
            "Attack with 0.3 started...\n",
            "Attack complete!\n",
            "Attack with 0.4 started...\n",
            "Attack complete!\n",
            "Attack with 0.5 started...\n",
            "Attack complete!\n",
            "Attack with 0.6 started...\n",
            "Attack complete!\n",
            "Attack with 0.7 started...\n",
            "Attack complete!\n",
            "Attack with 0.8 started...\n",
            "Attack complete!\n",
            "Attack with 0.9 started...\n",
            "Attack complete!\n",
            "Attack with 1.0 started...\n",
            "Attack complete!\n"
          ],
          "name": "stdout"
        },
        {
          "output_type": "display_data",
          "data": {
            "image/png": "[encoded data removed]",
            "text/plain": [
              "<Figure size 432x288 with 1 Axes>"
            ]
          },
          "metadata": {
            "tags": [],
            "needs_background": "light"
          }
        }
      ]
    },
    {
      "cell_type": "code",
      "metadata": {
        "id": "KvFuHgp_-bXL",
        "colab_type": "code",
        "colab": {
          "base_uri": "https://localhost:8080/",
          "height": 35
        },
        "outputId": "daa60821-19ec-4eb0-829c-029fdbb0f84c"
      },
      "source": [
        "print(v_acc_attack_clean)"
      ],
      "execution_count": null,
      "outputs": [
        {
          "output_type": "stream",
          "text": [
            "[0.32 0.31 0.3  0.32 0.31 0.29 0.29 0.29 0.31 0.3  0.29]\n"
          ],
          "name": "stdout"
        }
      ]
    }
  ]
}